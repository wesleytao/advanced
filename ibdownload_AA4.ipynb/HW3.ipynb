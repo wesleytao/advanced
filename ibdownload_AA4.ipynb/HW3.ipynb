{
 "cells": [
  {
   "cell_type": "markdown",
   "metadata": {},
   "source": [
    "# Homework 3\n",
    "\n",
    "* Assigned: 10/18 Thursday\n",
    "\n",
    "* Due: 11/15 Thursday, 10:00 AM via. Instabase + Gradescope\n",
    "\n",
    "* Value: 3.75% of your grade\n",
    "\n",
    "In this assignment it's time to get real! You'll first flex your SQL muscles and perform analyses similar to HW2's by writing SQL and reflecting on the experience. You will then perform some normalization."
   ]
  },
  {
   "cell_type": "markdown",
   "metadata": {},
   "source": [
    "## Announcement\n",
    "\n",
    "Homework 3 has two parts. __Part 1__ requires you to __complete and submit via Instabase__ by the token provided. We have setup the environment for you. Part 2 is a written task requiring a hard copy to be submitted on Gradescope.\n",
    "\n",
    "__Please do not revise any existing block or variable without instruction.__ It may cause failure for running grading script, which will result in some grade deduction. Query quality and correctness will also be part of the grading rubric. We will grade mannually to allow some partial credits."
   ]
  },
  {
   "cell_type": "markdown",
   "metadata": {},
   "source": [
    "## Token Setup"
   ]
  },
  {
   "cell_type": "code",
   "execution_count": 54,
   "metadata": {},
   "outputs": [],
   "source": [
    "# Your columbia uni that is used in SSOL\n",
    "#\n",
    "# IMPORTANT:  make sure this is consistent with the uni/alias used as your @columbia.edu email in SSOL\n",
    "#\n",
    "UNI = \"wt2271\"\n",
    "\n",
    "# your instabase username (if you go to the instabase homepage, your username should be in the URL)\n",
    "USER = \"wesley\"\n",
    "\n",
    "# your repository name containing \n",
    "REPO = \"my-repo\"\n"
   ]
  },
  {
   "cell_type": "markdown",
   "metadata": {},
   "source": [
    "## Database Connection"
   ]
  },
  {
   "cell_type": "markdown",
   "metadata": {},
   "source": [
    "Run following command to connect to database. You should see \"Connected to ...\" for successful connection."
   ]
  },
  {
   "cell_type": "code",
   "execution_count": 1,
   "metadata": {},
   "outputs": [
    {
     "name": "stdout",
     "output_type": "stream",
     "text": [
      "Connected to: ib://ewu/w4111-public/databases/w4111\n"
     ]
    }
   ],
   "source": [
    "# connect to db in public repo\n",
    "ib.connect_db('ib://ewu/w4111-public/databases/w4111')"
   ]
  },
  {
   "cell_type": "code",
   "execution_count": 5,
   "metadata": {},
   "outputs": [
    {
     "data": {
      "text/html": [
       "<div>\n",
       "<style scoped>\n",
       "    .dataframe tbody tr th:only-of-type {\n",
       "        vertical-align: middle;\n",
       "    }\n",
       "\n",
       "    .dataframe tbody tr th {\n",
       "        vertical-align: top;\n",
       "    }\n",
       "\n",
       "    .dataframe thead th {\n",
       "        text-align: right;\n",
       "    }\n",
       "</style>\n",
       "<table border=\"1\" class=\"dataframe\">\n",
       "  <thead>\n",
       "    <tr style=\"text-align: right;\">\n",
       "      <th></th>\n",
       "      <th>count</th>\n",
       "    </tr>\n",
       "  </thead>\n",
       "  <tbody>\n",
       "    <tr>\n",
       "      <th>0</th>\n",
       "      <td>1</td>\n",
       "    </tr>\n",
       "  </tbody>\n",
       "</table>\n",
       "</div>"
      ],
      "text/plain": [
       "  count\n",
       "0     1"
      ]
     },
     "execution_count": 5,
     "metadata": {},
     "output_type": "execute_result"
    }
   ],
   "source": [
    "%%sql\n",
    "select count(distinct(vendor_name)) from iowa where itemno = 3326"
   ]
  },
  {
   "cell_type": "markdown",
   "metadata": {},
   "source": [
    "We are using a 1mil-tuple sample** of the iowa liquor sales data for this assignment, with column names and datatype (in format of [name] [datatype]) as:\n",
    "\n",
    "  - address char(256),\n",
    "  - bottle_volume_ml integer,\n",
    "  - category char(256),\n",
    "  - category_name char(256),\n",
    "  - city char(256),\n",
    "  - county char(256),\n",
    "  - county_number char(256),\n",
    "  - date date,\n",
    "  - im_desc char(256),\n",
    "  - invoice_line_no char(256),\n",
    "  - itemno integer,\n",
    "  - name char(256),\n",
    "  - pack integer,\n",
    "  - sale_bottles integer,\n",
    "  - sale_dollars double precision,\n",
    "  - sale_gallons double precision,\n",
    "  - sale_liters double precision,\n",
    "  - state_bottle_cost double precision,\n",
    "  - state_bottle_retail double precision,\n",
    "  - store integer,\n",
    "  - store_location char(256),\n",
    "  - store_location_address char(256),\n",
    "  - store_location_city char(256),\n",
    "  - store_location_zip char(256),\n",
    "  - vendor_name char(256),\n",
    "  - vendor_no integer,\n",
    "  - zipcode text\n",
    "  \n",
    "A description of column names can be found here: https://data.iowa.gov/Economy/Iowa-Liquor-Sales/m3tr-qhgy."
   ]
  },
  {
   "cell_type": "markdown",
   "metadata": {},
   "source": [
    "You may run this query to have some ideas on the schema you are dealing with:"
   ]
  },
  {
   "cell_type": "code",
   "execution_count": 3,
   "metadata": {},
   "outputs": [
    {
     "data": {
      "text/html": [
       "<div>\n",
       "<style scoped>\n",
       "    .dataframe tbody tr th:only-of-type {\n",
       "        vertical-align: middle;\n",
       "    }\n",
       "\n",
       "    .dataframe tbody tr th {\n",
       "        vertical-align: top;\n",
       "    }\n",
       "\n",
       "    .dataframe thead th {\n",
       "        text-align: right;\n",
       "    }\n",
       "</style>\n",
       "<table border=\"1\" class=\"dataframe\">\n",
       "  <thead>\n",
       "    <tr style=\"text-align: right;\">\n",
       "      <th></th>\n",
       "      <th>address</th>\n",
       "      <th>bottle_volume_ml</th>\n",
       "      <th>category</th>\n",
       "      <th>category_name</th>\n",
       "      <th>city</th>\n",
       "      <th>county</th>\n",
       "      <th>county_number</th>\n",
       "      <th>date</th>\n",
       "      <th>im_desc</th>\n",
       "      <th>invoice_line_no</th>\n",
       "      <th>...</th>\n",
       "      <th>state_bottle_cost</th>\n",
       "      <th>state_bottle_retail</th>\n",
       "      <th>store</th>\n",
       "      <th>store_location</th>\n",
       "      <th>store_location_address</th>\n",
       "      <th>store_location_city</th>\n",
       "      <th>store_location_zip</th>\n",
       "      <th>vendor_name</th>\n",
       "      <th>vendor_no</th>\n",
       "      <th>zipcode</th>\n",
       "    </tr>\n",
       "  </thead>\n",
       "  <tbody>\n",
       "    <tr>\n",
       "      <th>0</th>\n",
       "      <td>1404  1ST AVE NE                              ...</td>\n",
       "      <td>375</td>\n",
       "      <td>1082900.0                                     ...</td>\n",
       "      <td>MISC. IMPORTED CORDIALS &amp; LIQUEURS            ...</td>\n",
       "      <td>CEDAR RAPIDS                                  ...</td>\n",
       "      <td>Linn                                          ...</td>\n",
       "      <td>57.0                                          ...</td>\n",
       "      <td>2013-08-05</td>\n",
       "      <td>Jagermeister Liqueur                          ...</td>\n",
       "      <td>S13729500031                                  ...</td>\n",
       "      <td>...</td>\n",
       "      <td>6.50999999999999979</td>\n",
       "      <td>9.76999999999999957</td>\n",
       "      <td>3894</td>\n",
       "      <td>POINT (-91.653699 41.987286)                  ...</td>\n",
       "      <td>1404 1ST AVE NE                               ...</td>\n",
       "      <td>CEDAR RAPIDS                                  ...</td>\n",
       "      <td>52402                                         ...</td>\n",
       "      <td>Sidney Frank Importing Co.                    ...</td>\n",
       "      <td>192</td>\n",
       "      <td>52402</td>\n",
       "    </tr>\n",
       "  </tbody>\n",
       "</table>\n",
       "<p>1 rows × 27 columns</p>\n",
       "</div>"
      ],
      "text/plain": [
       "                                             address bottle_volume_ml  \\\n",
       "0  1404  1ST AVE NE                              ...              375   \n",
       "\n",
       "                                            category  \\\n",
       "0  1082900.0                                     ...   \n",
       "\n",
       "                                       category_name  \\\n",
       "0  MISC. IMPORTED CORDIALS & LIQUEURS            ...   \n",
       "\n",
       "                                                city  \\\n",
       "0  CEDAR RAPIDS                                  ...   \n",
       "\n",
       "                                              county  \\\n",
       "0  Linn                                          ...   \n",
       "\n",
       "                                       county_number        date  \\\n",
       "0  57.0                                          ...  2013-08-05   \n",
       "\n",
       "                                             im_desc  \\\n",
       "0  Jagermeister Liqueur                          ...   \n",
       "\n",
       "                                     invoice_line_no   ...    \\\n",
       "0  S13729500031                                  ...   ...     \n",
       "\n",
       "     state_bottle_cost  state_bottle_retail store  \\\n",
       "0  6.50999999999999979  9.76999999999999957  3894   \n",
       "\n",
       "                                      store_location  \\\n",
       "0  POINT (-91.653699 41.987286)                  ...   \n",
       "\n",
       "                              store_location_address  \\\n",
       "0  1404 1ST AVE NE                               ...   \n",
       "\n",
       "                                 store_location_city  \\\n",
       "0  CEDAR RAPIDS                                  ...   \n",
       "\n",
       "                                  store_location_zip  \\\n",
       "0  52402                                         ...   \n",
       "\n",
       "                                         vendor_name vendor_no zipcode  \n",
       "0  Sidney Frank Importing Co.                    ...       192   52402  \n",
       "\n",
       "[1 rows x 27 columns]"
      ]
     },
     "execution_count": 3,
     "metadata": {},
     "output_type": "execute_result"
    }
   ],
   "source": [
    "%%sql\n",
    "select * from iowa limit 1;"
   ]
  },
  {
   "cell_type": "markdown",
   "metadata": {},
   "source": [
    "__Disclaimer: this course does not condone drinking, we are using this dataset because it is a common format for a sales transaction log in a silghtly more accessible domain than typical bank transactions__."
   ]
  },
  {
   "cell_type": "markdown",
   "metadata": {},
   "source": [
    "## Part I: SQL, the sequel"
   ]
  },
  {
   "cell_type": "markdown",
   "metadata": {},
   "source": [
    "### Jupyter Notes: _Read these carefully_\n",
    "\n",
    "* You **may** create new IPython notebook cells to use for e.g. testing, debugging, exploring, etc.- this is encouraged in fact!- **just make sure that you run the final cell to submit your results**\n",
    "  * you can press shift+enter to execute to code in the cell that your cursor is in.\n",
    "* When you see `In [*]:` to the left of the cell you are executing, this means that the code / query is _running_. Please wait for the execution to complete\n",
    "    * **If the cell is hanging- i.e. running for too long: you can restart the kernel**\n",
    "    * To restart kernel using the menu bar: \"Kernel >> Restart >> Clear all outputs & restart\"), then re-execute cells from the top\n",
    "* _Have fun!_"
   ]
  },
  {
   "cell_type": "markdown",
   "metadata": {},
   "source": [
    "__Now, please write the SQL query for each of the following questions.__\n",
    "\n",
    "__Fill answers according to instruction in each question. Make sure to submit your query also (instruction given).__\n",
    "\n",
    "Note: Some queries will take a few minutes to run on your virtual machine. If your query is running for more than ~10 minutes, you either did something wrong, \n",
    "or you may need to create tables with your temp tables to run the query more efficiently. \n",
    "\n",
    "For example: If you use the results of a sub-query multiple times, it \n",
    "can help to use SELECT ... INTO ... then reference that table.\n"
   ]
  },
  {
   "cell_type": "markdown",
   "metadata": {},
   "source": [
    "### __(2 points) Q1.1: Which store had the most sales in terms of total records in the table?__"
   ]
  },
  {
   "cell_type": "code",
   "execution_count": 1,
   "metadata": {},
   "outputs": [
    {
     "data": {
      "text/plain": [
       "{'q1': {'count': 31784478,\n",
       "  'query': 'select store, sum(store) as record from iowa group by store order by record limit 1;',\n",
       "  'store': 4829},\n",
       " 'q3': {'1': {'qty': 64368,\n",
       "   'zipcode': 52402,\n",
       "   'category_name': 'VODKA 80 PROOF ...'},\n",
       "  '2': {'qty': 55597, 'zipcode': 52240, 'category_name': 'VODKA 80 PROOF ...'},\n",
       "  '3': {'qty': 49893, 'zipcode': 50314, 'category_name': 'VODKA 80 PROOF ...'},\n",
       "  '4': {'qty': 44763, 'zipcode': 50320, 'category_name': 'VODKA 80 PROOF ...'},\n",
       "  '5': {'qty': 40812, 'zipcode': 51501, 'category_name': 'VODKA 80 PROOF ...'},\n",
       "  'query': 'with category_sale as (select zipcode, category_name, sum(sale_bottles) as total_bottles from iowa group by zipcode, category_name) select a.zipcode, b.category_name, a.max from (select max(total_bottles) as max, zipcode from category_sale group by zipcode) as a left join category_sale b on a.max = b.total_bottles and a.zipcode = b.zipcode order by max desc limit 5;'},\n",
       " 'q2': {'count': 1181,\n",
       "  'vendor_no': 260,\n",
       "  'query': 'select vendor_no, count(vendor_no) from iowa where store = 4829  group by vendor_no order by count(vendor_no) desc limit 1;'},\n",
       " 'q5': {'query': 'with store_avg as(select avg(state_bottle_cost/bottle_volume_ml) as cost_ml, store, itemno from iowa group by store, itemno) select itemno from store_avg group by itemno order by avg(cost_ml) desc limit 1;',\n",
       "  'itemno': 927368},\n",
       " 'q4': {'count': 116,\n",
       "  'query': \"with tequila as (select count(distinct itemno) as count, store from iowa where im_desc like '%tequila%' group by store) select count(distinct i.zipcode) from tequila t left join iowa i on t.store = i.store where t.count > 1;\"},\n",
       " 'q6': {'sql_cons': '',\n",
       "  'python_cons': '',\n",
       "  'python_pros': 'as a general purpose programming language, python can achieve more functionality than sql',\n",
       "  'sql_pros': 'easier to write and understand when write queries talk to database.'},\n",
       " 'user': 'cherylxiao',\n",
       " 'uni': 'yx2444'}"
      ]
     },
     "execution_count": 1,
     "metadata": {},
     "output_type": "execute_result"
    }
   ],
   "source": [
    "{\"q1\": {\"count\": 31784478, \"query\": \"select store, sum(store) as record from iowa group by store order by record limit 1;\", \"store\": 4829}, \"q3\": {\"1\": {\"qty\": 64368, \"zipcode\": 52402, \"category_name\": \"VODKA 80 PROOF ...\"}, \"2\": {\"qty\": 55597, \"zipcode\": 52240, \"category_name\": \"VODKA 80 PROOF ...\"}, \"3\": {\"qty\": 49893, \"zipcode\": 50314, \"category_name\": \"VODKA 80 PROOF ...\"}, \"4\": {\"qty\": 44763, \"zipcode\": 50320, \"category_name\": \"VODKA 80 PROOF ...\"}, \"5\": {\"qty\": 40812, \"zipcode\": 51501, \"category_name\": \"VODKA 80 PROOF ...\"}, \"query\": \"with category_sale as (select zipcode, category_name, sum(sale_bottles) as total_bottles from iowa group by zipcode, category_name) select a.zipcode, b.category_name, a.max from (select max(total_bottles) as max, zipcode from category_sale group by zipcode) as a left join category_sale b on a.max = b.total_bottles and a.zipcode = b.zipcode order by max desc limit 5;\"}, \"q2\": {\"count\": 1181, \"vendor_no\": 260, \"query\": \"select vendor_no, count(vendor_no) from iowa where store = 4829  group by vendor_no order by count(vendor_no) desc limit 1;\"}, \"q5\": {\"query\": \"with store_avg as(select avg(state_bottle_cost/bottle_volume_ml) as cost_ml, store, itemno from iowa group by store, itemno) select itemno from store_avg group by itemno order by avg(cost_ml) desc limit 1;\", \"itemno\": 927368}, \"q4\": {\"count\": 116, \"query\": \"with tequila as (select count(distinct itemno) as count, store from iowa where im_desc like '%tequila%' group by store) select count(distinct i.zipcode) from tequila t left join iowa i on t.store = i.store where t.count > 1;\"}, \"q6\": {\"sql_cons\": \"\", \"python_cons\": \"\", \"python_pros\": \"as a general purpose programming language, python can achieve more functionality than sql\", \"sql_pros\": \"easier to write and understand when write queries talk to database.\"}, \"user\": \"cherylxiao\", \"uni\": \"yx2444\"}"
   ]
  },
  {
   "cell_type": "code",
   "execution_count": 9,
   "metadata": {},
   "outputs": [
    {
     "data": {
      "text/html": [
       "<div>\n",
       "<style scoped>\n",
       "    .dataframe tbody tr th:only-of-type {\n",
       "        vertical-align: middle;\n",
       "    }\n",
       "\n",
       "    .dataframe tbody tr th {\n",
       "        vertical-align: top;\n",
       "    }\n",
       "\n",
       "    .dataframe thead th {\n",
       "        text-align: right;\n",
       "    }\n",
       "</style>\n",
       "<table border=\"1\" class=\"dataframe\">\n",
       "  <thead>\n",
       "    <tr style=\"text-align: right;\">\n",
       "      <th></th>\n",
       "      <th>count</th>\n",
       "      <th>store</th>\n",
       "    </tr>\n",
       "  </thead>\n",
       "  <tbody>\n",
       "    <tr>\n",
       "      <th>0</th>\n",
       "      <td>8934</td>\n",
       "      <td>2633</td>\n",
       "    </tr>\n",
       "  </tbody>\n",
       "</table>\n",
       "</div>"
      ],
      "text/plain": [
       "  count store\n",
       "0  8934  2633"
      ]
     },
     "execution_count": 9,
     "metadata": {},
     "output_type": "execute_result"
    }
   ],
   "source": [
    "%%sql\n",
    "-- Complete your query here\n",
    "select count(*), store from iowa group by store order by count desc limit 1"
   ]
  },
  {
   "cell_type": "code",
   "execution_count": 56,
   "metadata": {},
   "outputs": [],
   "source": [
    "# Please replace None with the result store and record number here\n",
    "# submit query in string format\n",
    "q1 = {\n",
    "    'store': 2633,\n",
    "    'count': 8934,\n",
    "    'query': 'select count(*), store from iowa group by store order by count desc limit 1'\n",
    "}"
   ]
  },
  {
   "cell_type": "markdown",
   "metadata": {},
   "source": [
    "### __(2 points) Q1.2: At the store with the most total records (answer to Q1.1), what was the vendor number with most sale records? (The vendor that has the most records in the table?)__"
   ]
  },
  {
   "cell_type": "code",
   "execution_count": null,
   "metadata": {},
   "outputs": [],
   "source": [
    "select vendor_no, count(vendor_no) from iowa where store = 4829  group by vendor_no order by count(vendor_no) desc limit 1"
   ]
  },
  {
   "cell_type": "code",
   "execution_count": 16,
   "metadata": {},
   "outputs": [
    {
     "data": {
      "text/html": [
       "<div>\n",
       "<style scoped>\n",
       "    .dataframe tbody tr th:only-of-type {\n",
       "        vertical-align: middle;\n",
       "    }\n",
       "\n",
       "    .dataframe tbody tr th {\n",
       "        vertical-align: top;\n",
       "    }\n",
       "\n",
       "    .dataframe thead th {\n",
       "        text-align: right;\n",
       "    }\n",
       "</style>\n",
       "<table border=\"1\" class=\"dataframe\">\n",
       "  <thead>\n",
       "    <tr style=\"text-align: right;\">\n",
       "      <th></th>\n",
       "      <th>vendor_no</th>\n",
       "      <th>count</th>\n",
       "    </tr>\n",
       "  </thead>\n",
       "  <tbody>\n",
       "    <tr>\n",
       "      <th>0</th>\n",
       "      <td>260</td>\n",
       "      <td>1509</td>\n",
       "    </tr>\n",
       "    <tr>\n",
       "      <th>1</th>\n",
       "      <td>65</td>\n",
       "      <td>1427</td>\n",
       "    </tr>\n",
       "  </tbody>\n",
       "</table>\n",
       "</div>"
      ],
      "text/plain": [
       "  vendor_no count\n",
       "0       260  1509\n",
       "1        65  1427"
      ]
     },
     "execution_count": 16,
     "metadata": {},
     "output_type": "execute_result"
    }
   ],
   "source": [
    "%%sql\n",
    "-- Complete your query here\n",
    "select vendor_no, count(*) from iowa where store = (\n",
    "    select store from iowa group by store order by count(*) desc limit 1) \n",
    "    group by vendor_no order by count desc limit 1 "
   ]
  },
  {
   "cell_type": "code",
   "execution_count": 57,
   "metadata": {},
   "outputs": [],
   "source": [
    "# please replace None with the result vendor_no and according sum here\n",
    "# submit query in string format\n",
    "q2 = {\n",
    "    'vendor_no': 260,\n",
    "    'count': 1509,\n",
    "    'query': 'select vendor_no, count(*) from iowa where store = (select store from iowa group by store order by count(*) desc limit 1) group by vendor_no order by count desc limit 1'\n",
    "}"
   ]
  },
  {
   "cell_type": "markdown",
   "metadata": {},
   "source": [
    "### __(3 points) Q1.3: For each zipcode, compute the single most purchased category_name by total sale_bottles. __\n",
    "\n",
    "__Return the top 5 (zipcode, category_name) when sorted in descending order by the most purchased total sale_bottles.__"
   ]
  },
  {
   "cell_type": "code",
   "execution_count": null,
   "metadata": {},
   "outputs": [],
   "source": [
    "with category_sale as \n",
    "(select zipcode, category_name, sum(sale_bottles) as total_bottles from iowa group by zipcode, category_name) \n",
    "select a.zipcode, b.category_name, a.max \n",
    "from (select max(total_bottles) as max, zipcode from category_sale group by zipcode) as a \n",
    "left join category_sale b on a.max = b.total_bottles and a.zipcode = b.zipcode \n",
    "order by max desc limit 5;"
   ]
  },
  {
   "cell_type": "code",
   "execution_count": 3,
   "metadata": {},
   "outputs": [
    {
     "name": "stderr",
     "output_type": "stream",
     "text": [
      "UsageError: Cell magic `%%sql` not found.\n"
     ]
    }
   ],
   "source": [
    "%%sql\n",
    "-- Complete your query here\n",
    "with temp as (select zipcode,category_name ,sum(sale_bottles) as qty from iowa group by zipcode, category_name)\n",
    "\n",
    "select t.zipcode, t.qty, category_name\n",
    "from (select zipcode, max(qty) as qty_max from temp group by zipcode) as t join temp on t.zipcode = temp.zipcode and t.qty=temp.qty\n",
    "order by qty_max desc limit 5\n"
   ]
  },
  {
   "cell_type": "code",
   "execution_count": 58,
   "metadata": {},
   "outputs": [],
   "source": [
    "# please replace None with the result accordingly here\n",
    "# submit query in string format\n",
    "q3 = {\n",
    "    1: {'zipcode': 52402, 'category_name': \"VODKA 80 PROOF\", 'qty': 64368},\n",
    "    2: {'zipcode': 52240, 'category_name': \"VODKA 80 PROOF\", 'qty': 55597},\n",
    "    3: {'zipcode': 50314, 'category_name': \"VODKA 80 PROOF\", 'qty': 49893},\n",
    "    4: {'zipcode': 50320, 'category_name': \"VODKA 80 PROOF\", 'qty': 44763},\n",
    "    5: {'zipcode': 51501, 'category_name': \"VODKA 80 PROOF\", 'qty': 40812},\n",
    "    'query': '''with temp as (select zipcode,category_name ,sum(sale_bottles) as qty from iowa group by zipcode, category_name)\n",
    "select t.zipcode, t.qty, category_name\n",
    "from (select zipcode, max(qty) as qty from temp group by zipcode) as t join temp on t.zipcode = temp.zipcode and t.qty=temp.qty\n",
    "order by qty desc limit 5'''\n",
    "}"
   ]
  },
  {
   "cell_type": "markdown",
   "metadata": {},
   "source": [
    "### __(3 points) Q1.4: This problem has two steps, you only need to return the value from second step.__\n",
    "\n",
    "__Compute the set of all liquors with the characters \"tequila\" (in lowercase) in its description (`im_desc`). The attribute `itemno` is the one that can serve as a unique identifier for a specific liquor.__\n",
    "\n",
    "__Return the count of all distinct value of zipcode for all liquor stores that sold at least two of every tequila as defined in the previous sentence.__\n",
    "\n",
    "(Optional: It is possible to rewrite the query in a form that can execute quite fast, but it will require you to create some temporary tables and/or experiment with alternate forms to express the problem. If you find the solution, feel free to submit it!)"
   ]
  },
  {
   "cell_type": "code",
   "execution_count": 43,
   "metadata": {},
   "outputs": [
    {
     "data": {
      "text/html": [
       "<div>\n",
       "<style scoped>\n",
       "    .dataframe tbody tr th:only-of-type {\n",
       "        vertical-align: middle;\n",
       "    }\n",
       "\n",
       "    .dataframe tbody tr th {\n",
       "        vertical-align: top;\n",
       "    }\n",
       "\n",
       "    .dataframe thead th {\n",
       "        text-align: right;\n",
       "    }\n",
       "</style>\n",
       "<table border=\"1\" class=\"dataframe\">\n",
       "  <thead>\n",
       "    <tr style=\"text-align: right;\">\n",
       "      <th></th>\n",
       "      <th>count</th>\n",
       "    </tr>\n",
       "  </thead>\n",
       "  <tbody>\n",
       "    <tr>\n",
       "      <th>0</th>\n",
       "      <td>232</td>\n",
       "    </tr>\n",
       "  </tbody>\n",
       "</table>\n",
       "</div>"
      ],
      "text/plain": [
       "  count\n",
       "0   232"
      ]
     },
     "execution_count": 43,
     "metadata": {},
     "output_type": "execute_result"
    }
   ],
   "source": [
    "%%sql\n",
    "-- Complete your query here\n",
    "with temp as (select distinct(zipcode)\n",
    "      from iowa \n",
    "      where itemno in (select distinct(itemno) from iowa where im_desc like '%tequila%') \n",
    "      group by store, zipcode \n",
    "      having sum(sale_bottles) > 2)\n",
    "select count(*)\n",
    "from temp"
   ]
  },
  {
   "cell_type": "code",
   "execution_count": 59,
   "metadata": {},
   "outputs": [],
   "source": [
    "# please replace None with the according count here\n",
    "# submit query in string format\n",
    "q4 = {\n",
    "    'count': 232,\n",
    "    'query': '''with temp as (select distinct(zipcode)\n",
    "      from iowa \n",
    "      where itemno in (select distinct(itemno) from iowa where im_desc like '%tequila%') \n",
    "      group by store, zipcode \n",
    "      having sum(sale_bottles) > 2)\n",
    "select count(*)\n",
    "from temp'''\n",
    "}"
   ]
  },
  {
   "cell_type": "code",
   "execution_count": 2,
   "metadata": {},
   "outputs": [
    {
     "data": {
      "text/plain": [
       "\"with tequila as (select count(distinct itemno) as count, store from iowa where im_desc like '%tequila%' group by store) select count(distinct i.zipcode) from tequila t left join iowa i on t.store = i.store where t.count > 1;\""
      ]
     },
     "execution_count": 2,
     "metadata": {},
     "output_type": "execute_result"
    }
   ],
   "source": [
    "\"with tequila as (select count(distinct itemno) as count, store from iowa where im_desc like '%tequila%' group by store) \n",
    "select count(distinct i.zipcode) from tequila t left join iowa i on t.store = i.store where t.count > 1;\""
   ]
  },
  {
   "cell_type": "markdown",
   "metadata": {},
   "source": [
    "### __(3 points) Q1.5:  __What is the item number (`itemno`) of the liquor with the highest state bottle cost, (as defined below), across all of iowa?\n",
    "\n",
    "Let a liquor's _bottle cost_ for a given store $S_i$ be the state bottle retail cost per milliliter (mL) based on `state_bottle_retail` (this is the amount the store paid for each bottle of liquor ordered), averaged across all sales at store $S_i$. Note: The `bottle_volume_ml` field provides the volume of each bottle ordered in mL. Ignore the quantity of bottles sold in a sale.\n",
    "\n",
    "Let a liquor's overall _state bottle cost_ be the average of all the per store costs, averaged across all stores in iowa.\n",
    "\n",
    "For example: If a single store sells an item (say item no. 100), and has two coresponding records: 10 750 mL bottles of \\$10 state bottle cost each (total cost: \\$100), and later 1 bottle of a 1000 mL bottle of \\$20 (total cost: \\$20), the average is (10/750 + 20/1000)/2 = 0.01666...)."
   ]
  },
  {
   "cell_type": "code",
   "execution_count": 51,
   "metadata": {},
   "outputs": [
    {
     "data": {
      "text/html": [
       "<div>\n",
       "<style scoped>\n",
       "    .dataframe tbody tr th:only-of-type {\n",
       "        vertical-align: middle;\n",
       "    }\n",
       "\n",
       "    .dataframe tbody tr th {\n",
       "        vertical-align: top;\n",
       "    }\n",
       "\n",
       "    .dataframe thead th {\n",
       "        text-align: right;\n",
       "    }\n",
       "</style>\n",
       "<table border=\"1\" class=\"dataframe\">\n",
       "  <thead>\n",
       "    <tr style=\"text-align: right;\">\n",
       "      <th></th>\n",
       "      <th>avg</th>\n",
       "      <th>itemno</th>\n",
       "    </tr>\n",
       "  </thead>\n",
       "  <tbody>\n",
       "    <tr>\n",
       "      <th>0</th>\n",
       "      <td>11.5999999999999996</td>\n",
       "      <td>927368</td>\n",
       "    </tr>\n",
       "  </tbody>\n",
       "</table>\n",
       "</div>"
      ],
      "text/plain": [
       "                   avg  itemno\n",
       "0  11.5999999999999996  927368"
      ]
     },
     "execution_count": 51,
     "metadata": {},
     "output_type": "execute_result"
    }
   ],
   "source": [
    "%%sql\n",
    "-- Complete your query here\n",
    "with temp as (select avg(state_bottle_retail/bottle_volume_ml) as unit_cost, store, itemno\n",
    "from iowa \n",
    "group by store, itemno)\n",
    "\n",
    "select avg(unit_cost), itemno from temp\n",
    "group by itemno\n",
    "order by avg(unit_cost) desc limit 1"
   ]
  },
  {
   "cell_type": "code",
   "execution_count": 60,
   "metadata": {},
   "outputs": [],
   "source": [
    "# please replace None with the item number here\n",
    "# submit query in string format\n",
    "q5 = {\n",
    "    'itemno': 927368,\n",
    "    'query': '''with temp as (select avg(state_bottle_retail/bottle_volume_ml) as unit_cost, store, itemno\n",
    "from iowa \n",
    "group by store, itemno)\n",
    "\n",
    "select avg(unit_cost), itemno from temp\n",
    "group by itemno\n",
    "order by avg(unit_cost) desc limit 1'''\n",
    "}"
   ]
  },
  {
   "cell_type": "markdown",
   "metadata": {},
   "source": [
    "### __(3 points) Q1.6: Write a short paragraph about the main differences between writing Python code and writing SQL. List one pro and one con for each approach. __"
   ]
  },
  {
   "cell_type": "code",
   "execution_count": 61,
   "metadata": {},
   "outputs": [],
   "source": [
    "q6 = {\n",
    "    # put Python's pros and cons here\n",
    "    # please write in the quotes\n",
    "    'python_pros': \"easy to do data wrangling and modify the atomic data at very low level\",\n",
    "    'python_cons': \"not very effecient when we only care the result\",\n",
    "    'sql_pros': \"the syntax is more human readable and natural\",\n",
    "    'sql_cons': \"sometimes query logic is easy but we need complex query to implement just like double negation\"\n",
    "}"
   ]
  },
  {
   "cell_type": "markdown",
   "metadata": {},
   "source": [
    "## Part I Submission\n",
    "\n",
    "### Create your submission file¶\n",
    "\n",
    "Run the following cell to create a results file for your homework\n",
    "\n",
    "DO NOT MODIFY THE FOLLOWING CELL!!"
   ]
  },
  {
   "cell_type": "code",
   "execution_count": 62,
   "metadata": {},
   "outputs": [
    {
     "name": "stdout",
     "output_type": "stream",
     "text": [
      "Result file created at: 2018-11-12 21:18:15.792847\n",
      "\n",
      "Check your results: http://instabase.com/wesley/my-repo/fs/Instabase%20Drive/HW3/results\n"
     ]
    }
   ],
   "source": [
    "import datetime\n",
    "import json\n",
    "\n",
    "script_path = '{0}/{1}/fs/Instabase%20Drive'.format(USER, REPO)\n",
    "\n",
    "with ib.open('results'.format(script_path), \"w\") as f:\n",
    "    result = dict(\n",
    "        q1=q1,\n",
    "        q2=q2,\n",
    "        q3=q3,\n",
    "        q4=q4,\n",
    "        q5=q5,\n",
    "        q6=q6,\n",
    "        uni=UNI,\n",
    "        user=USER\n",
    "    )\n",
    "    f.write(json.dumps(result))\n",
    "    print \"Result file created at: {0}\".format(datetime.datetime.now())\n",
    "  \n",
    "    print\n",
    "    print \"Check your results: http://instabase.com/{0}/HW3/results\".format(script_path)"
   ]
  },
  {
   "cell_type": "markdown",
   "metadata": {},
   "source": [
    "Finally, Submit your __HW3 folder including the results file__ at the following URL:\n",
    "    \n",
    "https://www.instabase.com/apps/file-submission/cmd/submit/23eaec3c-154a-4898-848f-bf73b220582d\n"
   ]
  },
  {
   "cell_type": "markdown",
   "metadata": {},
   "source": [
    "## Part II, Normalization\n",
    "\n",
    "See Github page for more details. Submit __hard copy__ for Part 2 as instructed __before due__."
   ]
  },
  {
   "cell_type": "markdown",
   "metadata": {},
   "source": [
    "_**Remarks: Dataset sourced from https://data.iowa.gov/Economy/Iowa-Liquor-Sales/m3tr-qhgy. 1mil tuples extracted and preprocessed to remove double quotation marks and apostrophes._"
   ]
  }
 ],
 "metadata": {
  "kernelspec": {
   "display_name": "Python 3",
   "language": "python",
   "name": "python3"
  },
  "language_info": {
   "codemirror_mode": {
    "name": "ipython",
    "version": 3
   },
   "file_extension": ".py",
   "mimetype": "text/x-python",
   "name": "python",
   "nbconvert_exporter": "python",
   "pygments_lexer": "ipython3",
   "version": "3.6.6"
  }
 },
 "nbformat": 4,
 "nbformat_minor": 1
}
